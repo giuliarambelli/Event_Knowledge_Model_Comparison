{
 "cells": [
  {
   "cell_type": "markdown",
   "id": "35522100",
   "metadata": {},
   "source": [
    "# ANNs-unidirectional predict sentence score\n",
    "\n",
    "Use GPT-2 to compute the probability of a given sentence."
   ]
  },
  {
   "cell_type": "code",
   "execution_count": 1,
   "id": "4f999131",
   "metadata": {},
   "outputs": [
    {
     "ename": "SyntaxError",
     "evalue": "invalid syntax (<ipython-input-1-7d846aeea8e1>, line 1)",
     "output_type": "error",
     "traceback": [
      "\u001b[0;36m  File \u001b[0;32m\"<ipython-input-1-7d846aeea8e1>\"\u001b[0;36m, line \u001b[0;32m1\u001b[0m\n\u001b[0;31m    [![Open In Colab](https://colab.research.google.com/assets/colab-badge.svg)](https://colab.research.google.com/github/giuliarambelli/Event_Knowledge_ANN/blob/master/ANN-unidirectional-predict-sentence.ipynb)\u001b[0m\n\u001b[0m     ^\u001b[0m\n\u001b[0;31mSyntaxError\u001b[0m\u001b[0;31m:\u001b[0m invalid syntax\n"
     ]
    }
   ],
   "source": [
    "[![Open In Colab](https://colab.research.google.com/assets/colab-badge.svg)]\n",
    "(https://colab.research.google.com/github/giuliarambelli/Event_Knowledge_ANN/blob/master/ANNs-unidirectional-predict-sentence.ipynb) "
   ]
  },
  {
   "cell_type": "code",
   "execution_count": 8,
   "id": "cf9d94fa",
   "metadata": {},
   "outputs": [],
   "source": [
    "import os\n",
    "import math\n",
    "import pandas as pd"
   ]
  },
  {
   "cell_type": "code",
   "execution_count": 9,
   "id": "688b72a2",
   "metadata": {},
   "outputs": [],
   "source": [
    "# This function load the datasets modified, the 3rd column is the position of the word we have to mask\n",
    "def load_data(df):\n",
    "    ids = []\n",
    "    sents = []\n",
    "    for index, row in df.iterrows():\n",
    "        ids.append(row[0])\n",
    "        if row[1][-1]!='.':\n",
    "            sents.append(row[1]+' .')\n",
    "        else:\n",
    "            sents.append(row[1])\n",
    "    #return (ids, sents)\n",
    "    return ids, sents"
   ]
  },
  {
   "cell_type": "code",
   "execution_count": 10,
   "id": "eecf1dc1",
   "metadata": {},
   "outputs": [],
   "source": [
    "dtfit=pd.read_csv('datasets/id_verbs/DTFit_vassallo_deps.verbs.txt', sep='\\t', header=None)\n",
    "ev1=pd.read_csv('datasets/id_verbs/ev1_deps.verbs.txt', sep='\\t', header=None)\n",
    "ev2=pd.read_csv('datasets/id_verbs/ev2_deps.verbs.txt', sep='\\t', header=None)\n",
    "new_ev=pd.read_csv('datasets/id_verbs/new-EventsAdapt-sentences.ids.txt', sep='\\t', header=None)"
   ]
  },
  {
   "cell_type": "code",
   "execution_count": 11,
   "id": "ca2ed09c",
   "metadata": {},
   "outputs": [
    {
     "data": {
      "text/html": [
       "<div>\n",
       "<style scoped>\n",
       "    .dataframe tbody tr th:only-of-type {\n",
       "        vertical-align: middle;\n",
       "    }\n",
       "\n",
       "    .dataframe tbody tr th {\n",
       "        vertical-align: top;\n",
       "    }\n",
       "\n",
       "    .dataframe thead th {\n",
       "        text-align: right;\n",
       "    }\n",
       "</style>\n",
       "<table border=\"1\" class=\"dataframe\">\n",
       "  <thead>\n",
       "    <tr style=\"text-align: right;\">\n",
       "      <th></th>\n",
       "      <th>0</th>\n",
       "      <th>1</th>\n",
       "      <th>2</th>\n",
       "    </tr>\n",
       "  </thead>\n",
       "  <tbody>\n",
       "    <tr>\n",
       "      <th>0</th>\n",
       "      <td>0</td>\n",
       "      <td>The call girl wasted the money .</td>\n",
       "      <td>3</td>\n",
       "    </tr>\n",
       "    <tr>\n",
       "      <th>1</th>\n",
       "      <td>1</td>\n",
       "      <td>The money wasted the call girl .</td>\n",
       "      <td>2</td>\n",
       "    </tr>\n",
       "    <tr>\n",
       "      <th>2</th>\n",
       "      <td>2</td>\n",
       "      <td>The money was wasted by the call girl .</td>\n",
       "      <td>3</td>\n",
       "    </tr>\n",
       "    <tr>\n",
       "      <th>3</th>\n",
       "      <td>3</td>\n",
       "      <td>The call girl was wasted by the money .</td>\n",
       "      <td>4</td>\n",
       "    </tr>\n",
       "    <tr>\n",
       "      <th>4</th>\n",
       "      <td>4</td>\n",
       "      <td>The ship captain promised the triumph .</td>\n",
       "      <td>3</td>\n",
       "    </tr>\n",
       "  </tbody>\n",
       "</table>\n",
       "</div>"
      ],
      "text/plain": [
       "   0                                        1  2\n",
       "0  0         The call girl wasted the money .  3\n",
       "1  1         The money wasted the call girl .  2\n",
       "2  2  The money was wasted by the call girl .  3\n",
       "3  3  The call girl was wasted by the money .  4\n",
       "4  4  The ship captain promised the triumph .  3"
      ]
     },
     "execution_count": 11,
     "metadata": {},
     "output_type": "execute_result"
    }
   ],
   "source": [
    "new_ev.head()"
   ]
  },
  {
   "cell_type": "code",
   "execution_count": 12,
   "id": "fdad155e",
   "metadata": {},
   "outputs": [],
   "source": [
    "datasets = {'ev1': load_data(ev1),\n",
    "            'dtfit': load_data(dtfit),\n",
    "            'ev2': load_data(ev2),\n",
    "            'new-EventsAdapt': load_data(new_ev)\n",
    "           }"
   ]
  },
  {
   "cell_type": "code",
   "execution_count": 13,
   "id": "a6ab7f3e",
   "metadata": {},
   "outputs": [
    {
     "name": "stdout",
     "output_type": "stream",
     "text": [
      "Requirement already satisfied: lm-scorer in /home/giulia.rambelli/Python3/lib/python3.6/site-packages (0.4.2)\n",
      "Requirement already satisfied: transformers<3.0.0,>=2.9.0 in /home/giulia.rambelli/Python3/lib/python3.6/site-packages (from lm-scorer) (2.11.0)\n",
      "Requirement already satisfied: pip>=20.0.0 in /home/giulia.rambelli/Python3/lib/python3.6/site-packages (from lm-scorer) (21.1.2)\n",
      "Requirement already satisfied: torch<2.0.0,>=1.4.0 in /home/giulia.rambelli/Python3/lib/python3.6/site-packages/torch-1.7.1-py3.6-linux-x86_64.egg (from lm-scorer) (1.7.1)\n",
      "Requirement already satisfied: dataclasses in /home/giulia.rambelli/Python3/lib/python3.6/site-packages/dataclasses-0.8-py3.6.egg (from torch<2.0.0,>=1.4.0->lm-scorer) (0.8)\n",
      "Requirement already satisfied: numpy in /home/giulia.rambelli/Python3/lib/python3.6/site-packages (from torch<2.0.0,>=1.4.0->lm-scorer) (1.17.4)\n",
      "Requirement already satisfied: typing-extensions in /home/giulia.rambelli/Python3/lib/python3.6/site-packages/typing_extensions-3.7.4.3-py3.6.egg (from torch<2.0.0,>=1.4.0->lm-scorer) (3.7.4.3)\n",
      "Requirement already satisfied: packaging in /home/giulia.rambelli/Python3/lib/python3.6/site-packages/packaging-20.8-py3.6.egg (from transformers<3.0.0,>=2.9.0->lm-scorer) (20.8)\n",
      "Requirement already satisfied: sacremoses in /home/giulia.rambelli/Python3/lib/python3.6/site-packages/sacremoses-0.0.43-py3.6.egg (from transformers<3.0.0,>=2.9.0->lm-scorer) (0.0.43)\n",
      "Requirement already satisfied: tokenizers==0.7.0 in /home/giulia.rambelli/Python3/lib/python3.6/site-packages (from transformers<3.0.0,>=2.9.0->lm-scorer) (0.7.0)\n",
      "Requirement already satisfied: requests in /home/giulia.rambelli/Python3/lib/python3.6/site-packages (from transformers<3.0.0,>=2.9.0->lm-scorer) (2.22.0)\n",
      "Requirement already satisfied: tqdm>=4.27 in /home/giulia.rambelli/Python3/lib/python3.6/site-packages/tqdm-4.56.0-py3.6.egg (from transformers<3.0.0,>=2.9.0->lm-scorer) (4.56.0)\n",
      "Requirement already satisfied: regex!=2019.12.17 in /home/giulia.rambelli/Python3/lib/python3.6/site-packages/regex-2020.11.13-py3.6-linux-x86_64.egg (from transformers<3.0.0,>=2.9.0->lm-scorer) (2020.11.13)\n",
      "Requirement already satisfied: filelock in /home/giulia.rambelli/Python3/lib/python3.6/site-packages/filelock-3.0.12-py3.6.egg (from transformers<3.0.0,>=2.9.0->lm-scorer) (3.0.12)\n",
      "Requirement already satisfied: sentencepiece in /home/giulia.rambelli/Python3/lib/python3.6/site-packages/sentencepiece-0.1.95-py3.6-linux-x86_64.egg (from transformers<3.0.0,>=2.9.0->lm-scorer) (0.1.95)\n",
      "Requirement already satisfied: pyparsing>=2.0.2 in /home/giulia.rambelli/Python3/lib/python3.6/site-packages (from packaging->transformers<3.0.0,>=2.9.0->lm-scorer) (2.4.5)\n",
      "Requirement already satisfied: certifi>=2017.4.17 in /home/giulia.rambelli/Python3/lib/python3.6/site-packages (from requests->transformers<3.0.0,>=2.9.0->lm-scorer) (2019.11.28)\n",
      "Requirement already satisfied: idna<2.9,>=2.5 in /home/giulia.rambelli/Python3/lib/python3.6/site-packages (from requests->transformers<3.0.0,>=2.9.0->lm-scorer) (2.8)\n",
      "Requirement already satisfied: urllib3!=1.25.0,!=1.25.1,<1.26,>=1.21.1 in /home/giulia.rambelli/Python3/lib/python3.6/site-packages (from requests->transformers<3.0.0,>=2.9.0->lm-scorer) (1.25.7)\n",
      "Requirement already satisfied: chardet<3.1.0,>=3.0.2 in /home/giulia.rambelli/Python3/lib/python3.6/site-packages (from requests->transformers<3.0.0,>=2.9.0->lm-scorer) (3.0.4)\n",
      "Requirement already satisfied: six in /home/giulia.rambelli/Python3/lib/python3.6/site-packages (from sacremoses->transformers<3.0.0,>=2.9.0->lm-scorer) (1.13.0)\n",
      "Requirement already satisfied: click in /home/giulia.rambelli/Python3/lib/python3.6/site-packages/click-8.0.0a1-py3.6.egg (from sacremoses->transformers<3.0.0,>=2.9.0->lm-scorer) (8.0.0a1)\n",
      "Requirement already satisfied: joblib in /home/giulia.rambelli/Python3/lib/python3.6/site-packages (from sacremoses->transformers<3.0.0,>=2.9.0->lm-scorer) (0.14.0)\n"
     ]
    }
   ],
   "source": [
    "!pip install lm-scorer\n",
    "import torch, sys\n",
    "import numpy as np\n",
    "from lm_scorer.models.auto import AutoLMScorer as LMScorer"
   ]
  },
  {
   "cell_type": "code",
   "execution_count": 14,
   "id": "b0d3508b",
   "metadata": {},
   "outputs": [],
   "source": [
    "def gpt(sentences):\n",
    "    device = \"cuda:0\" if torch.cuda.is_available() else \"cpu\"\n",
    "    #scorer = LMScorer.from_pretrained(\"gpt2-xl\", device=device)\n",
    "    scorer = LMScorer.from_pretrained(\"gpt2-medium\", device=device)\n",
    "    scores = []\n",
    "    for sent in sentences:\n",
    "        scores.append(scorer.sentence_score(sent, reduce=\"prod\"))\n",
    "        \n",
    "    return scores"
   ]
  },
  {
   "cell_type": "code",
   "execution_count": 11,
   "id": "spread-clock",
   "metadata": {},
   "outputs": [
    {
     "name": "stdout",
     "output_type": "stream",
     "text": [
      "Collecting ipywidgets\n",
      "  Using cached ipywidgets-7.6.3-py2.py3-none-any.whl (121 kB)\n",
      "Collecting widgetsnbextension~=3.5.0\n",
      "  Using cached widgetsnbextension-3.5.1-py2.py3-none-any.whl (2.2 MB)\n",
      "Requirement already satisfied: nbformat>=4.2.0 in /home/giulia.rambelli/Python3/lib/python3.6/site-packages (from ipywidgets) (5.1.2)\n",
      "Requirement already satisfied: traitlets>=4.3.1 in /home/giulia.rambelli/Python3/lib/python3.6/site-packages (from ipywidgets) (4.3.3)\n",
      "Collecting jupyterlab-widgets>=1.0.0\n",
      "  Using cached jupyterlab_widgets-1.0.0-py3-none-any.whl (243 kB)\n",
      "Requirement already satisfied: ipython>=4.0.0 in /home/giulia.rambelli/Python3/lib/python3.6/site-packages (from ipywidgets) (7.16.1)\n",
      "Requirement already satisfied: ipykernel>=4.5.1 in /home/giulia.rambelli/Python3/lib/python3.6/site-packages (from ipywidgets) (5.5.0)\n",
      "Requirement already satisfied: jupyter-client in /home/giulia.rambelli/Python3/lib/python3.6/site-packages (from ipykernel>=4.5.1->ipywidgets) (6.1.11)\n",
      "Requirement already satisfied: tornado>=4.2 in /home/giulia.rambelli/Python3/lib/python3.6/site-packages (from ipykernel>=4.5.1->ipywidgets) (6.1)\n",
      "Requirement already satisfied: pickleshare in /home/giulia.rambelli/Python3/lib/python3.6/site-packages (from ipython>=4.0.0->ipywidgets) (0.7.5)\n",
      "Requirement already satisfied: setuptools>=18.5 in /home/giulia.rambelli/Python3/lib/python3.6/site-packages (from ipython>=4.0.0->ipywidgets) (42.0.2)\n",
      "Requirement already satisfied: backcall in /home/giulia.rambelli/Python3/lib/python3.6/site-packages (from ipython>=4.0.0->ipywidgets) (0.2.0)\n",
      "Requirement already satisfied: decorator in /home/giulia.rambelli/Python3/lib/python3.6/site-packages (from ipython>=4.0.0->ipywidgets) (4.4.2)\n",
      "Requirement already satisfied: jedi>=0.10 in /home/giulia.rambelli/Python3/lib/python3.6/site-packages (from ipython>=4.0.0->ipywidgets) (0.18.0)\n",
      "Requirement already satisfied: pygments in /home/giulia.rambelli/Python3/lib/python3.6/site-packages (from ipython>=4.0.0->ipywidgets) (2.8.0)\n",
      "Requirement already satisfied: prompt-toolkit!=3.0.0,!=3.0.1,<3.1.0,>=2.0.0 in /home/giulia.rambelli/Python3/lib/python3.6/site-packages (from ipython>=4.0.0->ipywidgets) (3.0.16)\n",
      "Requirement already satisfied: pexpect in /home/giulia.rambelli/Python3/lib/python3.6/site-packages (from ipython>=4.0.0->ipywidgets) (4.8.0)\n",
      "Requirement already satisfied: parso<0.9.0,>=0.8.0 in /home/giulia.rambelli/Python3/lib/python3.6/site-packages (from jedi>=0.10->ipython>=4.0.0->ipywidgets) (0.8.1)\n",
      "Requirement already satisfied: ipython-genutils in /home/giulia.rambelli/Python3/lib/python3.6/site-packages (from nbformat>=4.2.0->ipywidgets) (0.2.0)\n",
      "Requirement already satisfied: jsonschema!=2.5.0,>=2.4 in /home/giulia.rambelli/Python3/lib/python3.6/site-packages (from nbformat>=4.2.0->ipywidgets) (3.2.0)\n",
      "Requirement already satisfied: jupyter-core in /home/giulia.rambelli/Python3/lib/python3.6/site-packages (from nbformat>=4.2.0->ipywidgets) (4.7.1)\n",
      "Requirement already satisfied: importlib-metadata in /home/giulia.rambelli/Python3/lib/python3.6/site-packages/importlib_metadata-3.4.0-py3.6.egg (from jsonschema!=2.5.0,>=2.4->nbformat>=4.2.0->ipywidgets) (3.4.0)\n",
      "Requirement already satisfied: pyrsistent>=0.14.0 in /home/giulia.rambelli/Python3/lib/python3.6/site-packages (from jsonschema!=2.5.0,>=2.4->nbformat>=4.2.0->ipywidgets) (0.17.3)\n",
      "Requirement already satisfied: attrs>=17.4.0 in /home/giulia.rambelli/Python3/lib/python3.6/site-packages (from jsonschema!=2.5.0,>=2.4->nbformat>=4.2.0->ipywidgets) (20.3.0)\n",
      "Requirement already satisfied: six>=1.11.0 in /home/giulia.rambelli/Python3/lib/python3.6/site-packages (from jsonschema!=2.5.0,>=2.4->nbformat>=4.2.0->ipywidgets) (1.13.0)\n",
      "Requirement already satisfied: wcwidth in /home/giulia.rambelli/Python3/lib/python3.6/site-packages (from prompt-toolkit!=3.0.0,!=3.0.1,<3.1.0,>=2.0.0->ipython>=4.0.0->ipywidgets) (0.2.5)\n",
      "Requirement already satisfied: notebook>=4.4.1 in /home/giulia.rambelli/Python3/lib/python3.6/site-packages (from widgetsnbextension~=3.5.0->ipywidgets) (6.2.0)\n",
      "Requirement already satisfied: pyzmq>=17 in /home/giulia.rambelli/Python3/lib/python3.6/site-packages (from notebook>=4.4.1->widgetsnbextension~=3.5.0->ipywidgets) (22.0.3)\n",
      "Requirement already satisfied: prometheus-client in /home/giulia.rambelli/Python3/lib/python3.6/site-packages (from notebook>=4.4.1->widgetsnbextension~=3.5.0->ipywidgets) (0.9.0)\n",
      "Requirement already satisfied: terminado>=0.8.3 in /home/giulia.rambelli/Python3/lib/python3.6/site-packages (from notebook>=4.4.1->widgetsnbextension~=3.5.0->ipywidgets) (0.9.2)\n",
      "Requirement already satisfied: jinja2 in /home/giulia.rambelli/Python3/lib/python3.6/site-packages (from notebook>=4.4.1->widgetsnbextension~=3.5.0->ipywidgets) (2.11.3)\n",
      "Requirement already satisfied: argon2-cffi in /home/giulia.rambelli/Python3/lib/python3.6/site-packages (from notebook>=4.4.1->widgetsnbextension~=3.5.0->ipywidgets) (20.1.0)\n",
      "Requirement already satisfied: nbconvert in /home/giulia.rambelli/Python3/lib/python3.6/site-packages (from notebook>=4.4.1->widgetsnbextension~=3.5.0->ipywidgets) (6.0.7)\n",
      "Requirement already satisfied: Send2Trash>=1.5.0 in /home/giulia.rambelli/Python3/lib/python3.6/site-packages (from notebook>=4.4.1->widgetsnbextension~=3.5.0->ipywidgets) (1.5.0)\n",
      "Requirement already satisfied: python-dateutil>=2.1 in /home/giulia.rambelli/Python3/lib/python3.6/site-packages (from jupyter-client->ipykernel>=4.5.1->ipywidgets) (2.8.0)\n",
      "Requirement already satisfied: ptyprocess in /home/giulia.rambelli/Python3/lib/python3.6/site-packages (from terminado>=0.8.3->notebook>=4.4.1->widgetsnbextension~=3.5.0->ipywidgets) (0.7.0)\n",
      "Requirement already satisfied: cffi>=1.0.0 in /home/giulia.rambelli/Python3/lib/python3.6/site-packages (from argon2-cffi->notebook>=4.4.1->widgetsnbextension~=3.5.0->ipywidgets) (1.14.5)\n",
      "Requirement already satisfied: pycparser in /home/giulia.rambelli/Python3/lib/python3.6/site-packages (from cffi>=1.0.0->argon2-cffi->notebook>=4.4.1->widgetsnbextension~=3.5.0->ipywidgets) (2.20)\n",
      "Requirement already satisfied: typing-extensions>=3.6.4 in /home/giulia.rambelli/Python3/lib/python3.6/site-packages/typing_extensions-3.7.4.3-py3.6.egg (from importlib-metadata->jsonschema!=2.5.0,>=2.4->nbformat>=4.2.0->ipywidgets) (3.7.4.3)\n",
      "Requirement already satisfied: zipp>=0.5 in /home/giulia.rambelli/Python3/lib/python3.6/site-packages/zipp-3.4.0-py3.6.egg (from importlib-metadata->jsonschema!=2.5.0,>=2.4->nbformat>=4.2.0->ipywidgets) (3.4.0)\n",
      "Requirement already satisfied: MarkupSafe>=0.23 in /home/giulia.rambelli/Python3/lib/python3.6/site-packages (from jinja2->notebook>=4.4.1->widgetsnbextension~=3.5.0->ipywidgets) (1.1.1)\n",
      "Requirement already satisfied: defusedxml in /home/giulia.rambelli/Python3/lib/python3.6/site-packages (from nbconvert->notebook>=4.4.1->widgetsnbextension~=3.5.0->ipywidgets) (0.6.0)\n",
      "Requirement already satisfied: bleach in /home/giulia.rambelli/Python3/lib/python3.6/site-packages (from nbconvert->notebook>=4.4.1->widgetsnbextension~=3.5.0->ipywidgets) (3.3.0)\n",
      "Requirement already satisfied: testpath in /home/giulia.rambelli/Python3/lib/python3.6/site-packages (from nbconvert->notebook>=4.4.1->widgetsnbextension~=3.5.0->ipywidgets) (0.4.4)\n",
      "Requirement already satisfied: mistune<2,>=0.8.1 in /home/giulia.rambelli/Python3/lib/python3.6/site-packages (from nbconvert->notebook>=4.4.1->widgetsnbextension~=3.5.0->ipywidgets) (0.8.4)\n",
      "Requirement already satisfied: entrypoints>=0.2.2 in /home/giulia.rambelli/Python3/lib/python3.6/site-packages (from nbconvert->notebook>=4.4.1->widgetsnbextension~=3.5.0->ipywidgets) (0.3)\n",
      "Requirement already satisfied: jupyterlab-pygments in /home/giulia.rambelli/Python3/lib/python3.6/site-packages (from nbconvert->notebook>=4.4.1->widgetsnbextension~=3.5.0->ipywidgets) (0.1.2)\n",
      "Requirement already satisfied: pandocfilters>=1.4.1 in /home/giulia.rambelli/Python3/lib/python3.6/site-packages (from nbconvert->notebook>=4.4.1->widgetsnbextension~=3.5.0->ipywidgets) (1.4.3)\n",
      "Requirement already satisfied: nbclient<0.6.0,>=0.5.0 in /home/giulia.rambelli/Python3/lib/python3.6/site-packages (from nbconvert->notebook>=4.4.1->widgetsnbextension~=3.5.0->ipywidgets) (0.5.3)\n",
      "Requirement already satisfied: async-generator in /home/giulia.rambelli/Python3/lib/python3.6/site-packages (from nbclient<0.6.0,>=0.5.0->nbconvert->notebook>=4.4.1->widgetsnbextension~=3.5.0->ipywidgets) (1.10)\n",
      "Requirement already satisfied: nest-asyncio in /home/giulia.rambelli/Python3/lib/python3.6/site-packages (from nbclient<0.6.0,>=0.5.0->nbconvert->notebook>=4.4.1->widgetsnbextension~=3.5.0->ipywidgets) (1.5.1)\n"
     ]
    },
    {
     "name": "stdout",
     "output_type": "stream",
     "text": [
      "Requirement already satisfied: webencodings in /home/giulia.rambelli/Python3/lib/python3.6/site-packages (from bleach->nbconvert->notebook>=4.4.1->widgetsnbextension~=3.5.0->ipywidgets) (0.5.1)\n",
      "Requirement already satisfied: packaging in /home/giulia.rambelli/Python3/lib/python3.6/site-packages/packaging-20.8-py3.6.egg (from bleach->nbconvert->notebook>=4.4.1->widgetsnbextension~=3.5.0->ipywidgets) (20.8)\n",
      "Requirement already satisfied: pyparsing>=2.0.2 in /home/giulia.rambelli/Python3/lib/python3.6/site-packages (from packaging->bleach->nbconvert->notebook>=4.4.1->widgetsnbextension~=3.5.0->ipywidgets) (2.4.5)\n",
      "Installing collected packages: widgetsnbextension, jupyterlab-widgets, ipywidgets\n",
      "Successfully installed ipywidgets-7.6.3 jupyterlab-widgets-1.0.0 widgetsnbextension-3.5.1\n"
     ]
    }
   ],
   "source": [
    "#!pip install ipywidgets"
   ]
  },
  {
   "cell_type": "code",
   "execution_count": 15,
   "id": "72b31ed7",
   "metadata": {},
   "outputs": [
    {
     "name": "stderr",
     "output_type": "stream",
     "text": [
      "/home/giulia.rambelli/Python3/lib/python3.6/site-packages/torch-1.7.1-py3.6-linux-x86_64.egg/torch/cuda/__init__.py:52: UserWarning: CUDA initialization: Found no NVIDIA driver on your system. Please check that you have an NVIDIA GPU and installed a driver from http://www.nvidia.com/Download/index.aspx (Triggered internally at  /pytorch/c10/cuda/CUDAFunctions.cpp:100.)\n",
      "  return torch._C._cuda_getDeviceCount() > 0\n"
     ]
    },
    {
     "data": {
      "application/vnd.jupyter.widget-view+json": {
       "model_id": "cbe60ec122604de180b1d0e7eea00dc0",
       "version_major": 2,
       "version_minor": 0
      },
      "text/plain": [
       "Downloading:   0%|          | 0.00/1.52G [00:00<?, ?B/s]"
      ]
     },
     "metadata": {},
     "output_type": "display_data"
    },
    {
     "ename": "KeyboardInterrupt",
     "evalue": "",
     "output_type": "error",
     "traceback": [
      "\u001b[0;31m---------------------------------------------------------------------------\u001b[0m",
      "\u001b[0;31mKeyboardInterrupt\u001b[0m                         Traceback (most recent call last)",
      "\u001b[0;32m<ipython-input-15-cb4664a99071>\u001b[0m in \u001b[0;36m<module>\u001b[0;34m\u001b[0m\n\u001b[1;32m      4\u001b[0m \u001b[0mname\u001b[0m \u001b[0;34m=\u001b[0m \u001b[0;34m'new-EventsAdapt'\u001b[0m\u001b[0;34m\u001b[0m\u001b[0;34m\u001b[0m\u001b[0m\n\u001b[1;32m      5\u001b[0m \u001b[0mids\u001b[0m\u001b[0;34m,\u001b[0m \u001b[0msents\u001b[0m \u001b[0;34m=\u001b[0m \u001b[0mdatasets\u001b[0m\u001b[0;34m[\u001b[0m\u001b[0mname\u001b[0m\u001b[0;34m]\u001b[0m\u001b[0;34m\u001b[0m\u001b[0;34m\u001b[0m\u001b[0m\n\u001b[0;32m----> 6\u001b[0;31m \u001b[0mprobs\u001b[0m \u001b[0;34m=\u001b[0m \u001b[0mgpt\u001b[0m\u001b[0;34m(\u001b[0m\u001b[0msents\u001b[0m\u001b[0;34m)\u001b[0m\u001b[0;34m\u001b[0m\u001b[0;34m\u001b[0m\u001b[0m\n\u001b[0m\u001b[1;32m      7\u001b[0m \u001b[0;34m\u001b[0m\u001b[0m\n\u001b[1;32m      8\u001b[0m \u001b[0mout\u001b[0m \u001b[0;34m=\u001b[0m \u001b[0mos\u001b[0m\u001b[0;34m.\u001b[0m\u001b[0mpath\u001b[0m\u001b[0;34m.\u001b[0m\u001b[0mjoin\u001b[0m\u001b[0;34m(\u001b[0m\u001b[0mout_dir\u001b[0m\u001b[0;34m,\u001b[0m \u001b[0;34m'{}.gpt2-medium.sentence-prob.txt'\u001b[0m\u001b[0;34m.\u001b[0m\u001b[0mformat\u001b[0m\u001b[0;34m(\u001b[0m\u001b[0mname\u001b[0m\u001b[0;34m)\u001b[0m\u001b[0;34m)\u001b[0m\u001b[0;34m\u001b[0m\u001b[0;34m\u001b[0m\u001b[0m\n",
      "\u001b[0;31mKeyboardInterrupt\u001b[0m: "
     ]
    }
   ],
   "source": [
    "out_dir = 'gpt2-probs/'\n",
    "os.makedirs(out_dir, exist_ok=True)\n",
    "\n",
    "name = 'new-EventsAdapt'\n",
    "ids, sents = datasets[name]\n",
    "probs = gpt(sents)\n",
    "\n",
    "out = os.path.join(out_dir, '{}.gpt2-medium.sentence-prob.txt'.format(name))\n",
    "print('Write ', probs)        \n",
    "with open(out_lastw, 'w') as fout:\n",
    "    for i, sent, score in zip(ids,sents,probs):\n",
    "        fout.write('{}\\t{}\\t{}\\n'.format(i, sent,score))"
   ]
  },
  {
   "cell_type": "code",
   "execution_count": null,
   "id": "covered-remedy",
   "metadata": {},
   "outputs": [],
   "source": []
  }
 ],
 "metadata": {
  "kernelspec": {
   "display_name": "Python 3",
   "language": "python",
   "name": "python3"
  },
  "language_info": {
   "codemirror_mode": {
    "name": "ipython",
    "version": 3
   },
   "file_extension": ".py",
   "mimetype": "text/x-python",
   "name": "python",
   "nbconvert_exporter": "python",
   "pygments_lexer": "ipython3",
   "version": "3.6.8"
  }
 },
 "nbformat": 4,
 "nbformat_minor": 5
}
