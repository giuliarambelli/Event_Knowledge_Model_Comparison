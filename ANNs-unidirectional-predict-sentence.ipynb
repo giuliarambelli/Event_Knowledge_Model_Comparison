{
 "cells": [
  {
   "cell_type": "markdown",
   "id": "35522100",
   "metadata": {},
   "source": [
    "# ANNs-unidirectional predict sentence score\n",
    "\n",
    "Use GPT-2 to compute the probability of a given sentence."
   ]
  },
  {
   "cell_type": "markdown",
   "id": "c37f611e",
   "metadata": {},
   "source": [
    "[![Open In Colab](https://colab.research.google.com/assets/colab-badge.svg)](https://colab.research.google.com/github/giuliarambelli/Event_Knowledge_Model_Comparison/blob/master/ANNs-unidirectional-predict-sentence.ipynb) "
   ]
  },
  {
   "cell_type": "code",
   "execution_count": 1,
   "id": "cf9d94fa",
   "metadata": {},
   "outputs": [],
   "source": [
    "import os\n",
    "import math\n",
    "import pandas as pd"
   ]
  },
  {
   "cell_type": "markdown",
   "id": "860bdb53",
   "metadata": {},
   "source": [
    "## 1. Load the dataset(s)"
   ]
  },
  {
   "cell_type": "code",
   "execution_count": 2,
   "id": "688b72a2",
   "metadata": {},
   "outputs": [],
   "source": [
    "# Function load for word2word mask tasks (input files must have the first 2 columns for id and sentence)\n",
    "def load_data(df):\n",
    "    ids = []\n",
    "    sents = []\n",
    "    for index, row in df.iterrows():\n",
    "        ids.append(row[0])\n",
    "        if row[1][-1]!='.':\n",
    "            sents.append(row[1]+' .')\n",
    "        else:\n",
    "            sents.append(row[1])\n",
    "    return (ids, sents)"
   ]
  },
  {
   "cell_type": "code",
   "execution_count": 3,
   "id": "eecf1dc1",
   "metadata": {},
   "outputs": [],
   "source": [
    "dtfit=pd.read_csv('datasets/DTFit_vassallo_deps.txt', sep='\\t', header=None)\n",
    "ev1=pd.read_csv('datasets/ev1_deps.txt', sep='\\t',header=None)\n",
    "new_ev=pd.read_csv('datasets/newsentences_EventsAdapt.txt', sep='\\t',header=None)"
   ]
  },
  {
   "cell_type": "code",
   "execution_count": 4,
   "id": "ca2ed09c",
   "metadata": {},
   "outputs": [
    {
     "data": {
      "text/html": [
       "<div>\n",
       "<style scoped>\n",
       "    .dataframe tbody tr th:only-of-type {\n",
       "        vertical-align: middle;\n",
       "    }\n",
       "\n",
       "    .dataframe tbody tr th {\n",
       "        vertical-align: top;\n",
       "    }\n",
       "\n",
       "    .dataframe thead th {\n",
       "        text-align: right;\n",
       "    }\n",
       "</style>\n",
       "<table border=\"1\" class=\"dataframe\">\n",
       "  <thead>\n",
       "    <tr style=\"text-align: right;\">\n",
       "      <th></th>\n",
       "      <th>0</th>\n",
       "      <th>1</th>\n",
       "    </tr>\n",
       "  </thead>\n",
       "  <tbody>\n",
       "    <tr>\n",
       "      <th>0</th>\n",
       "      <td>0</td>\n",
       "      <td>The raider caught the illness .</td>\n",
       "    </tr>\n",
       "    <tr>\n",
       "      <th>1</th>\n",
       "      <td>1</td>\n",
       "      <td>The illness caught the raider .</td>\n",
       "    </tr>\n",
       "    <tr>\n",
       "      <th>2</th>\n",
       "      <td>2</td>\n",
       "      <td>The illness was caught by the raider .</td>\n",
       "    </tr>\n",
       "    <tr>\n",
       "      <th>3</th>\n",
       "      <td>3</td>\n",
       "      <td>The raider was caught by the illness .</td>\n",
       "    </tr>\n",
       "    <tr>\n",
       "      <th>4</th>\n",
       "      <td>4</td>\n",
       "      <td>The marauder contracted the disease .</td>\n",
       "    </tr>\n",
       "  </tbody>\n",
       "</table>\n",
       "</div>"
      ],
      "text/plain": [
       "   0                                       1\n",
       "0  0         The raider caught the illness .\n",
       "1  1         The illness caught the raider .\n",
       "2  2  The illness was caught by the raider .\n",
       "3  3  The raider was caught by the illness .\n",
       "4  4   The marauder contracted the disease ."
      ]
     },
     "execution_count": 4,
     "metadata": {},
     "output_type": "execute_result"
    }
   ],
   "source": [
    "new_ev.head()"
   ]
  },
  {
   "cell_type": "code",
   "execution_count": 5,
   "id": "fdad155e",
   "metadata": {},
   "outputs": [],
   "source": [
    "datasets = {'ev1': load_data(ev1),\n",
    "            'dtfit': load_data(dtfit),\n",
    "            'new-EventsAdapt': load_data(new_ev)\n",
    "           }"
   ]
  },
  {
   "cell_type": "markdown",
   "id": "9d5113e8",
   "metadata": {},
   "source": [
    "## 2. TASK: Run Sequential word prediction (unidirectional ANNs)"
   ]
  },
  {
   "cell_type": "code",
   "execution_count": null,
   "id": "a6ab7f3e",
   "metadata": {},
   "outputs": [],
   "source": [
    "!pip install lm-scorer\n",
    "import torch, sys\n",
    "import numpy as np\n",
    "from lm_scorer.models.auto import AutoLMScorer as LMScorer"
   ]
  },
  {
   "cell_type": "code",
   "execution_count": null,
   "id": "b0d3508b",
   "metadata": {},
   "outputs": [],
   "source": [
    "def gpt(sentences, version):\n",
    "    device = \"cuda:0\" if torch.cuda.is_available() else \"cpu\"\n",
    "    #scorer = LMScorer.from_pretrained(\"gpt2-xl\", device=device)\n",
    "    scorer = LMScorer.from_pretrained(version, device=device)\n",
    "    scores = []\n",
    "    for sent in sentences:\n",
    "        scores.append(scorer.sentence_score(sent, reduce=\"prod\"))\n",
    "        \n",
    "    return scores"
   ]
  },
  {
   "cell_type": "code",
   "execution_count": null,
   "id": "spread-clock",
   "metadata": {},
   "outputs": [],
   "source": [
    "#!pip install ipywidgets"
   ]
  },
  {
   "cell_type": "code",
   "execution_count": null,
   "id": "72b31ed7",
   "metadata": {},
   "outputs": [],
   "source": [
    "out_dir = 'gpt2-probs/'\n",
    "os.makedirs(out_dir, exist_ok=True)\n",
    "# supported  models => [\"gpt2\", \"gpt2-medium\", \"gpt2-large\", \"gpt2-xl\", distilgpt2\"]\n",
    "\n",
    "version = 'gpt2'"
   ]
  },
  {
   "cell_type": "code",
   "execution_count": null,
   "id": "covered-remedy",
   "metadata": {},
   "outputs": [],
   "source": [
    "for dataset_name in datasets:\n",
    "    print('Processing: ', dataset_name)\n",
    "    ids, sents = datasets[name]\n",
    "    probs = gpt(sents, version)\n",
    "    out = os.path.join(out_dir, '{}.{}.sentence-prob.txt'.format(name, version))\n",
    "    print('Write ', probs)        \n",
    "    with open(out_lastw, 'w') as fout:\n",
    "        for i, sent, score in zip(ids,sents,probs):\n",
    "            fout.write('{}\\t{}\\t{}\\n'.format(i, sent,score))"
   ]
  }
 ],
 "metadata": {
  "kernelspec": {
   "display_name": "Python 3",
   "language": "python",
   "name": "python3"
  },
  "language_info": {
   "codemirror_mode": {
    "name": "ipython",
    "version": 3
   },
   "file_extension": ".py",
   "mimetype": "text/x-python",
   "name": "python",
   "nbconvert_exporter": "python",
   "pygments_lexer": "ipython3",
   "version": "3.6.9"
  }
 },
 "nbformat": 4,
 "nbformat_minor": 5
}
